{
 "cells": [
  {
   "cell_type": "markdown",
   "id": "820a6f98",
   "metadata": {},
   "source": [
    "# 🧺 Working with a List of Tuples: Fruit Inventory Example"
   ]
  },
  {
   "cell_type": "code",
   "execution_count": null,
   "id": "9111622a",
   "metadata": {},
   "outputs": [],
   "source": [
    "# Inventory Data\n",
    "Inventory = [\n",
    "    (1, \"Apples\", 250),\n",
    "    (2, \"Cherry\", 650),\n",
    "    (3, \"Chickoo\", 50),\n",
    "    (4, \"Grapes\", 90),\n",
    "    (5, \"Mangoes\", 150),\n",
    "]"
   ]
  },
  {
   "cell_type": "markdown",
   "id": "e36cfbf1",
   "metadata": {},
   "source": [
    "## ✅ 1. Accessing Items by Index"
   ]
  },
  {
   "cell_type": "code",
   "execution_count": null,
   "id": "a898f712",
   "metadata": {},
   "outputs": [],
   "source": [
    "second_item = Inventory[1]\n",
    "print(second_item)  # Output: (2, \"Cherry\", 650)\n",
    "\n",
    "item_name = Inventory[1][1]\n",
    "print(item_name)  # Output: \"Cherry\"\n"
   ]
  },
  {
   "cell_type": "markdown",
   "id": "b80b8e4f",
   "metadata": {},
   "source": [
    "## ✅ 2. Looping Through a List of Tuples"
   ]
  },
  {
   "cell_type": "code",
   "execution_count": null,
   "id": "78ddf62d",
   "metadata": {},
   "outputs": [],
   "source": [
    "for item in Inventory:\n",
    "    id, name, price = item\n",
    "    print(f\"ID: {id}, Name: {name}, Price: ${price}\")\n"
   ]
  },
  {
   "cell_type": "markdown",
   "id": "d52f34c6",
   "metadata": {},
   "source": [
    "## ✅ 3. Searching for an Item by ID"
   ]
  },
  {
   "cell_type": "code",
   "execution_count": null,
   "id": "935acb63",
   "metadata": {},
   "outputs": [],
   "source": [
    "def find_item_by_id(item_id):\n",
    "    for item in Inventory:\n",
    "        if item[0] == item_id:\n",
    "            return item\n",
    "    return None\n",
    "\n",
    "print(find_item_by_id(3))  # Output: (3, \"Chickoo\", 50)\n"
   ]
  },
  {
   "cell_type": "markdown",
   "id": "a8373056",
   "metadata": {},
   "source": [
    "## ✅ 4. Using `count()` for Quantity"
   ]
  },
  {
   "cell_type": "code",
   "execution_count": null,
   "id": "562a6634",
   "metadata": {},
   "outputs": [],
   "source": [
    "Your_Cart = [Inventory[0], Inventory[1], Inventory[0], Inventory[2]]\n",
    "print(Your_Cart.count(Inventory[0]))  # Output: 2\n"
   ]
  },
  {
   "cell_type": "markdown",
   "id": "ce51213e",
   "metadata": {},
   "source": [
    "## ✅ 5. Working with `set()` to Find Unique Items"
   ]
  },
  {
   "cell_type": "code",
   "execution_count": null,
   "id": "53b4bd4f",
   "metadata": {},
   "outputs": [],
   "source": [
    "unique_items = set(Your_Cart)\n",
    "for item in unique_items:\n",
    "    quantity = Your_Cart.count(item)\n",
    "    print(f\"{item[1]} x {quantity}\")\n"
   ]
  },
  {
   "cell_type": "markdown",
   "id": "6d1aeba5",
   "metadata": {},
   "source": [
    "## ✅ 6. Calculating Total Cost"
   ]
  },
  {
   "cell_type": "code",
   "execution_count": null,
   "id": "ea8d8c82",
   "metadata": {},
   "outputs": [],
   "source": [
    "total_cost = 0\n",
    "for item in Your_Cart:\n",
    "    total_cost += item[2]\n",
    "print(f\"Total: ${total_cost}\")\n"
   ]
  },
  {
   "cell_type": "markdown",
   "id": "e370a493",
   "metadata": {},
   "source": [
    "## ✅ 7. Removing an Item by Index from Cart"
   ]
  },
  {
   "cell_type": "code",
   "execution_count": null,
   "id": "fef9fdef",
   "metadata": {},
   "outputs": [],
   "source": [
    "if len(Your_Cart) >= 2:\n",
    "    removed = Your_Cart.pop(1)\n",
    "    print(f\"Removed: {removed}\")\n"
   ]
  }
 ],
 "metadata": {},
 "nbformat": 4,
 "nbformat_minor": 5
}
